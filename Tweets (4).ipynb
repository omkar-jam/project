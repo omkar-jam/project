{
 "cells": [
  {
   "cell_type": "code",
   "execution_count": 1,
   "id": "d7b75799",
   "metadata": {},
   "outputs": [],
   "source": [
    "import pandas as pd\n",
    "import numpy as np \n",
    "import matplotlib.pyplot as plt\n",
    "import sklearn\n",
    "\n",
    "# Import necessary modules\n",
    "from sklearn.model_selection import train_test_split\n",
    "from sklearn.metrics import mean_squared_error\n",
    "from math import sqrt\n",
    "from sklearn import model_selection\n",
    "from sklearn.linear_model import LogisticRegression\n",
    "from sklearn.model_selection import KFold\n",
    "from sklearn.model_selection import LeaveOneOut\n",
    "from sklearn.model_selection import LeavePOut\n",
    "from sklearn.model_selection import ShuffleSplit\n",
    "from sklearn.model_selection import StratifiedKFold"
   ]
  },
  {
   "cell_type": "code",
   "execution_count": 2,
   "id": "dc9a86e8",
   "metadata": {},
   "outputs": [],
   "source": [
    "import datetime as dt\n",
    "import numpy as np\n",
    "import pandas as pd\n",
    "from datetime import date\n",
    "import matplotlib.pyplot as plt\n",
    "import io\n",
    "import yfinance as yf"
   ]
  },
  {
   "cell_type": "markdown",
   "id": "9ee93a2b",
   "metadata": {},
   "source": [
    "# Data Import"
   ]
  },
  {
   "cell_type": "code",
   "execution_count": 3,
   "id": "5d3ae625",
   "metadata": {},
   "outputs": [
    {
     "name": "stdout",
     "output_type": "stream",
     "text": [
      "[*********************100%***********************]  1 of 1 completed\n"
     ]
    }
   ],
   "source": [
    "BTC = yf.download(\"BTC-USD\", start = \"2014-04-17\", end = \"2022-07-27\")"
   ]
  },
  {
   "cell_type": "code",
   "execution_count": 4,
   "id": "afcbd0f5",
   "metadata": {},
   "outputs": [],
   "source": [
    "BTC = BTC.reset_index()"
   ]
  },
  {
   "cell_type": "code",
   "execution_count": 5,
   "id": "ddc7fa1d",
   "metadata": {},
   "outputs": [
    {
     "data": {
      "text/html": [
       "<div>\n",
       "<style scoped>\n",
       "    .dataframe tbody tr th:only-of-type {\n",
       "        vertical-align: middle;\n",
       "    }\n",
       "\n",
       "    .dataframe tbody tr th {\n",
       "        vertical-align: top;\n",
       "    }\n",
       "\n",
       "    .dataframe thead th {\n",
       "        text-align: right;\n",
       "    }\n",
       "</style>\n",
       "<table border=\"1\" class=\"dataframe\">\n",
       "  <thead>\n",
       "    <tr style=\"text-align: right;\">\n",
       "      <th></th>\n",
       "      <th>Date</th>\n",
       "      <th>Open</th>\n",
       "      <th>High</th>\n",
       "      <th>Low</th>\n",
       "      <th>Close</th>\n",
       "      <th>Adj Close</th>\n",
       "      <th>Volume</th>\n",
       "    </tr>\n",
       "  </thead>\n",
       "  <tbody>\n",
       "    <tr>\n",
       "      <th>0</th>\n",
       "      <td>2014-09-17</td>\n",
       "      <td>465.864014</td>\n",
       "      <td>468.174011</td>\n",
       "      <td>452.421997</td>\n",
       "      <td>457.334015</td>\n",
       "      <td>457.334015</td>\n",
       "      <td>21056800</td>\n",
       "    </tr>\n",
       "    <tr>\n",
       "      <th>1</th>\n",
       "      <td>2014-09-18</td>\n",
       "      <td>456.859985</td>\n",
       "      <td>456.859985</td>\n",
       "      <td>413.104004</td>\n",
       "      <td>424.440002</td>\n",
       "      <td>424.440002</td>\n",
       "      <td>34483200</td>\n",
       "    </tr>\n",
       "    <tr>\n",
       "      <th>2</th>\n",
       "      <td>2014-09-19</td>\n",
       "      <td>424.102997</td>\n",
       "      <td>427.834991</td>\n",
       "      <td>384.532013</td>\n",
       "      <td>394.795990</td>\n",
       "      <td>394.795990</td>\n",
       "      <td>37919700</td>\n",
       "    </tr>\n",
       "    <tr>\n",
       "      <th>3</th>\n",
       "      <td>2014-09-20</td>\n",
       "      <td>394.673004</td>\n",
       "      <td>423.295990</td>\n",
       "      <td>389.882996</td>\n",
       "      <td>408.903992</td>\n",
       "      <td>408.903992</td>\n",
       "      <td>36863600</td>\n",
       "    </tr>\n",
       "    <tr>\n",
       "      <th>4</th>\n",
       "      <td>2014-09-21</td>\n",
       "      <td>408.084991</td>\n",
       "      <td>412.425995</td>\n",
       "      <td>393.181000</td>\n",
       "      <td>398.821014</td>\n",
       "      <td>398.821014</td>\n",
       "      <td>26580100</td>\n",
       "    </tr>\n",
       "  </tbody>\n",
       "</table>\n",
       "</div>"
      ],
      "text/plain": [
       "        Date        Open        High         Low       Close   Adj Close  \\\n",
       "0 2014-09-17  465.864014  468.174011  452.421997  457.334015  457.334015   \n",
       "1 2014-09-18  456.859985  456.859985  413.104004  424.440002  424.440002   \n",
       "2 2014-09-19  424.102997  427.834991  384.532013  394.795990  394.795990   \n",
       "3 2014-09-20  394.673004  423.295990  389.882996  408.903992  408.903992   \n",
       "4 2014-09-21  408.084991  412.425995  393.181000  398.821014  398.821014   \n",
       "\n",
       "     Volume  \n",
       "0  21056800  \n",
       "1  34483200  \n",
       "2  37919700  \n",
       "3  36863600  \n",
       "4  26580100  "
      ]
     },
     "execution_count": 5,
     "metadata": {},
     "output_type": "execute_result"
    }
   ],
   "source": [
    "BTC.head()"
   ]
  },
  {
   "cell_type": "markdown",
   "id": "bc019b82",
   "metadata": {},
   "source": [
    "# Tweets Volume Data Import"
   ]
  },
  {
   "cell_type": "code",
   "execution_count": 8,
   "id": "7a0878be",
   "metadata": {},
   "outputs": [
    {
     "data": {
      "text/html": [
       "<div>\n",
       "<style scoped>\n",
       "    .dataframe tbody tr th:only-of-type {\n",
       "        vertical-align: middle;\n",
       "    }\n",
       "\n",
       "    .dataframe tbody tr th {\n",
       "        vertical-align: top;\n",
       "    }\n",
       "\n",
       "    .dataframe thead th {\n",
       "        text-align: right;\n",
       "    }\n",
       "</style>\n",
       "<table border=\"1\" class=\"dataframe\">\n",
       "  <thead>\n",
       "    <tr style=\"text-align: right;\">\n",
       "      <th></th>\n",
       "      <th>Date</th>\n",
       "      <th>Tweets</th>\n",
       "    </tr>\n",
       "  </thead>\n",
       "  <tbody>\n",
       "    <tr>\n",
       "      <th>0</th>\n",
       "      <td>17-04-2014</td>\n",
       "      <td>15215.0</td>\n",
       "    </tr>\n",
       "    <tr>\n",
       "      <th>1</th>\n",
       "      <td>18-04-2014</td>\n",
       "      <td>14028.0</td>\n",
       "    </tr>\n",
       "    <tr>\n",
       "      <th>2</th>\n",
       "      <td>19-04-2014</td>\n",
       "      <td>12337.0</td>\n",
       "    </tr>\n",
       "    <tr>\n",
       "      <th>3</th>\n",
       "      <td>20-04-2014</td>\n",
       "      <td>12139.0</td>\n",
       "    </tr>\n",
       "    <tr>\n",
       "      <th>4</th>\n",
       "      <td>21-04-2014</td>\n",
       "      <td>14244.0</td>\n",
       "    </tr>\n",
       "  </tbody>\n",
       "</table>\n",
       "</div>"
      ],
      "text/plain": [
       "         Date   Tweets\n",
       "0  17-04-2014  15215.0\n",
       "1  18-04-2014  14028.0\n",
       "2  19-04-2014  12337.0\n",
       "3  20-04-2014  12139.0\n",
       "4  21-04-2014  14244.0"
      ]
     },
     "execution_count": 8,
     "metadata": {},
     "output_type": "execute_result"
    }
   ],
   "source": [
    "Tweet_Volume = pd.read_csv('C:/Users/523053/PycharmProjects/JUPYTER_NOTEBOOKS/Tweets_Volume.csv')\n",
    "Tweet_Volume.head()"
   ]
  },
  {
   "cell_type": "code",
   "execution_count": 9,
   "id": "a6d4bf88",
   "metadata": {},
   "outputs": [],
   "source": [
    "Tweet_Volume['Date'] = pd.to_datetime(Tweet_Volume['Date'])"
   ]
  },
  {
   "cell_type": "markdown",
   "id": "1ee91d34",
   "metadata": {},
   "source": [
    "# Joining Both data"
   ]
  },
  {
   "cell_type": "code",
   "execution_count": 10,
   "id": "d879e1a9",
   "metadata": {},
   "outputs": [
    {
     "data": {
      "text/html": [
       "<div>\n",
       "<style scoped>\n",
       "    .dataframe tbody tr th:only-of-type {\n",
       "        vertical-align: middle;\n",
       "    }\n",
       "\n",
       "    .dataframe tbody tr th {\n",
       "        vertical-align: top;\n",
       "    }\n",
       "\n",
       "    .dataframe thead th {\n",
       "        text-align: right;\n",
       "    }\n",
       "</style>\n",
       "<table border=\"1\" class=\"dataframe\">\n",
       "  <thead>\n",
       "    <tr style=\"text-align: right;\">\n",
       "      <th></th>\n",
       "      <th>Date</th>\n",
       "      <th>Open</th>\n",
       "      <th>High</th>\n",
       "      <th>Low</th>\n",
       "      <th>Close</th>\n",
       "      <th>Adj Close</th>\n",
       "      <th>Volume</th>\n",
       "      <th>Tweets</th>\n",
       "    </tr>\n",
       "  </thead>\n",
       "  <tbody>\n",
       "    <tr>\n",
       "      <th>0</th>\n",
       "      <td>2014-09-17</td>\n",
       "      <td>465.864014</td>\n",
       "      <td>468.174011</td>\n",
       "      <td>452.421997</td>\n",
       "      <td>457.334015</td>\n",
       "      <td>457.334015</td>\n",
       "      <td>21056800.0</td>\n",
       "      <td>27946.0</td>\n",
       "    </tr>\n",
       "    <tr>\n",
       "      <th>1</th>\n",
       "      <td>2014-09-18</td>\n",
       "      <td>456.859985</td>\n",
       "      <td>456.859985</td>\n",
       "      <td>413.104004</td>\n",
       "      <td>424.440002</td>\n",
       "      <td>424.440002</td>\n",
       "      <td>34483200.0</td>\n",
       "      <td>21135.0</td>\n",
       "    </tr>\n",
       "    <tr>\n",
       "      <th>2</th>\n",
       "      <td>2014-09-19</td>\n",
       "      <td>424.102997</td>\n",
       "      <td>427.834991</td>\n",
       "      <td>384.532013</td>\n",
       "      <td>394.795990</td>\n",
       "      <td>394.795990</td>\n",
       "      <td>37919700.0</td>\n",
       "      <td>20775.0</td>\n",
       "    </tr>\n",
       "    <tr>\n",
       "      <th>3</th>\n",
       "      <td>2014-09-20</td>\n",
       "      <td>394.673004</td>\n",
       "      <td>423.295990</td>\n",
       "      <td>389.882996</td>\n",
       "      <td>408.903992</td>\n",
       "      <td>408.903992</td>\n",
       "      <td>36863600.0</td>\n",
       "      <td>17607.0</td>\n",
       "    </tr>\n",
       "    <tr>\n",
       "      <th>4</th>\n",
       "      <td>2014-09-21</td>\n",
       "      <td>408.084991</td>\n",
       "      <td>412.425995</td>\n",
       "      <td>393.181000</td>\n",
       "      <td>398.821014</td>\n",
       "      <td>398.821014</td>\n",
       "      <td>26580100.0</td>\n",
       "      <td>17026.0</td>\n",
       "    </tr>\n",
       "    <tr>\n",
       "      <th>...</th>\n",
       "      <td>...</td>\n",
       "      <td>...</td>\n",
       "      <td>...</td>\n",
       "      <td>...</td>\n",
       "      <td>...</td>\n",
       "      <td>...</td>\n",
       "      <td>...</td>\n",
       "      <td>...</td>\n",
       "    </tr>\n",
       "    <tr>\n",
       "      <th>3066</th>\n",
       "      <td>2022-09-07</td>\n",
       "      <td>NaN</td>\n",
       "      <td>NaN</td>\n",
       "      <td>NaN</td>\n",
       "      <td>NaN</td>\n",
       "      <td>NaN</td>\n",
       "      <td>NaN</td>\n",
       "      <td>107656.0</td>\n",
       "    </tr>\n",
       "    <tr>\n",
       "      <th>3067</th>\n",
       "      <td>2022-10-07</td>\n",
       "      <td>NaN</td>\n",
       "      <td>NaN</td>\n",
       "      <td>NaN</td>\n",
       "      <td>NaN</td>\n",
       "      <td>NaN</td>\n",
       "      <td>NaN</td>\n",
       "      <td>104166.0</td>\n",
       "    </tr>\n",
       "    <tr>\n",
       "      <th>3068</th>\n",
       "      <td>2022-11-07</td>\n",
       "      <td>NaN</td>\n",
       "      <td>NaN</td>\n",
       "      <td>NaN</td>\n",
       "      <td>NaN</td>\n",
       "      <td>NaN</td>\n",
       "      <td>NaN</td>\n",
       "      <td>119029.0</td>\n",
       "    </tr>\n",
       "    <tr>\n",
       "      <th>3069</th>\n",
       "      <td>2022-12-07</td>\n",
       "      <td>NaN</td>\n",
       "      <td>NaN</td>\n",
       "      <td>NaN</td>\n",
       "      <td>NaN</td>\n",
       "      <td>NaN</td>\n",
       "      <td>NaN</td>\n",
       "      <td>107710.0</td>\n",
       "    </tr>\n",
       "    <tr>\n",
       "      <th>3070</th>\n",
       "      <td>2022-07-27</td>\n",
       "      <td>NaN</td>\n",
       "      <td>NaN</td>\n",
       "      <td>NaN</td>\n",
       "      <td>NaN</td>\n",
       "      <td>NaN</td>\n",
       "      <td>NaN</td>\n",
       "      <td>70249.0</td>\n",
       "    </tr>\n",
       "  </tbody>\n",
       "</table>\n",
       "<p>3071 rows × 8 columns</p>\n",
       "</div>"
      ],
      "text/plain": [
       "           Date        Open        High         Low       Close   Adj Close  \\\n",
       "0    2014-09-17  465.864014  468.174011  452.421997  457.334015  457.334015   \n",
       "1    2014-09-18  456.859985  456.859985  413.104004  424.440002  424.440002   \n",
       "2    2014-09-19  424.102997  427.834991  384.532013  394.795990  394.795990   \n",
       "3    2014-09-20  394.673004  423.295990  389.882996  408.903992  408.903992   \n",
       "4    2014-09-21  408.084991  412.425995  393.181000  398.821014  398.821014   \n",
       "...         ...         ...         ...         ...         ...         ...   \n",
       "3066 2022-09-07         NaN         NaN         NaN         NaN         NaN   \n",
       "3067 2022-10-07         NaN         NaN         NaN         NaN         NaN   \n",
       "3068 2022-11-07         NaN         NaN         NaN         NaN         NaN   \n",
       "3069 2022-12-07         NaN         NaN         NaN         NaN         NaN   \n",
       "3070 2022-07-27         NaN         NaN         NaN         NaN         NaN   \n",
       "\n",
       "          Volume    Tweets  \n",
       "0     21056800.0   27946.0  \n",
       "1     34483200.0   21135.0  \n",
       "2     37919700.0   20775.0  \n",
       "3     36863600.0   17607.0  \n",
       "4     26580100.0   17026.0  \n",
       "...          ...       ...  \n",
       "3066         NaN  107656.0  \n",
       "3067         NaN  104166.0  \n",
       "3068         NaN  119029.0  \n",
       "3069         NaN  107710.0  \n",
       "3070         NaN   70249.0  \n",
       "\n",
       "[3071 rows x 8 columns]"
      ]
     },
     "execution_count": 10,
     "metadata": {},
     "output_type": "execute_result"
    }
   ],
   "source": [
    "BTC_Tweets_Prices = BTC.merge(Tweet_Volume, on='Date', how='outer')\n",
    "BTC_Tweets_Prices"
   ]
  },
  {
   "cell_type": "markdown",
   "id": "54fba392",
   "metadata": {},
   "source": [
    "# Importing Google Trends Data."
   ]
  },
  {
   "cell_type": "code",
   "execution_count": 11,
   "id": "50a01ce8",
   "metadata": {},
   "outputs": [
    {
     "data": {
      "text/html": [
       "<div>\n",
       "<style scoped>\n",
       "    .dataframe tbody tr th:only-of-type {\n",
       "        vertical-align: middle;\n",
       "    }\n",
       "\n",
       "    .dataframe tbody tr th {\n",
       "        vertical-align: top;\n",
       "    }\n",
       "\n",
       "    .dataframe thead th {\n",
       "        text-align: right;\n",
       "    }\n",
       "</style>\n",
       "<table border=\"1\" class=\"dataframe\">\n",
       "  <thead>\n",
       "    <tr style=\"text-align: right;\">\n",
       "      <th></th>\n",
       "      <th>Date</th>\n",
       "      <th>Google Trends</th>\n",
       "    </tr>\n",
       "  </thead>\n",
       "  <tbody>\n",
       "    <tr>\n",
       "      <th>0</th>\n",
       "      <td>17-04-2014</td>\n",
       "      <td>65</td>\n",
       "    </tr>\n",
       "    <tr>\n",
       "      <th>1</th>\n",
       "      <td>18-04-2014</td>\n",
       "      <td>60</td>\n",
       "    </tr>\n",
       "    <tr>\n",
       "      <th>2</th>\n",
       "      <td>19-04-2014</td>\n",
       "      <td>56</td>\n",
       "    </tr>\n",
       "    <tr>\n",
       "      <th>3</th>\n",
       "      <td>20-04-2014</td>\n",
       "      <td>52</td>\n",
       "    </tr>\n",
       "    <tr>\n",
       "      <th>4</th>\n",
       "      <td>21-04-2014</td>\n",
       "      <td>58</td>\n",
       "    </tr>\n",
       "  </tbody>\n",
       "</table>\n",
       "</div>"
      ],
      "text/plain": [
       "         Date  Google Trends\n",
       "0  17-04-2014             65\n",
       "1  18-04-2014             60\n",
       "2  19-04-2014             56\n",
       "3  20-04-2014             52\n",
       "4  21-04-2014             58"
      ]
     },
     "execution_count": 11,
     "metadata": {},
     "output_type": "execute_result"
    }
   ],
   "source": [
    "Google_Trends = pd.read_csv('C:/Users/523053/PycharmProjects/JUPYTER_NOTEBOOKS/Googledata.csv')\n",
    "Google_Trends.head()"
   ]
  },
  {
   "cell_type": "code",
   "execution_count": 12,
   "id": "373c90f8",
   "metadata": {},
   "outputs": [],
   "source": [
    "Google_Trends['Date'] = pd.to_datetime(Google_Trends['Date'])"
   ]
  },
  {
   "cell_type": "markdown",
   "id": "3079c6f9",
   "metadata": {},
   "source": [
    "## Joining Google Trends data to main Dataframe."
   ]
  },
  {
   "cell_type": "code",
   "execution_count": 13,
   "id": "35f69043",
   "metadata": {},
   "outputs": [
    {
     "data": {
      "text/html": [
       "<div>\n",
       "<style scoped>\n",
       "    .dataframe tbody tr th:only-of-type {\n",
       "        vertical-align: middle;\n",
       "    }\n",
       "\n",
       "    .dataframe tbody tr th {\n",
       "        vertical-align: top;\n",
       "    }\n",
       "\n",
       "    .dataframe thead th {\n",
       "        text-align: right;\n",
       "    }\n",
       "</style>\n",
       "<table border=\"1\" class=\"dataframe\">\n",
       "  <thead>\n",
       "    <tr style=\"text-align: right;\">\n",
       "      <th></th>\n",
       "      <th>Date</th>\n",
       "      <th>Open</th>\n",
       "      <th>High</th>\n",
       "      <th>Low</th>\n",
       "      <th>Close</th>\n",
       "      <th>Adj Close</th>\n",
       "      <th>Volume</th>\n",
       "      <th>Tweets</th>\n",
       "      <th>Google Trends</th>\n",
       "    </tr>\n",
       "  </thead>\n",
       "  <tbody>\n",
       "    <tr>\n",
       "      <th>0</th>\n",
       "      <td>2014-09-17</td>\n",
       "      <td>465.864014</td>\n",
       "      <td>468.174011</td>\n",
       "      <td>452.421997</td>\n",
       "      <td>457.334015</td>\n",
       "      <td>457.334015</td>\n",
       "      <td>21056800.0</td>\n",
       "      <td>27946.0</td>\n",
       "      <td>47.0</td>\n",
       "    </tr>\n",
       "    <tr>\n",
       "      <th>1</th>\n",
       "      <td>2014-09-18</td>\n",
       "      <td>456.859985</td>\n",
       "      <td>456.859985</td>\n",
       "      <td>413.104004</td>\n",
       "      <td>424.440002</td>\n",
       "      <td>424.440002</td>\n",
       "      <td>34483200.0</td>\n",
       "      <td>21135.0</td>\n",
       "      <td>47.0</td>\n",
       "    </tr>\n",
       "    <tr>\n",
       "      <th>2</th>\n",
       "      <td>2014-09-19</td>\n",
       "      <td>424.102997</td>\n",
       "      <td>427.834991</td>\n",
       "      <td>384.532013</td>\n",
       "      <td>394.795990</td>\n",
       "      <td>394.795990</td>\n",
       "      <td>37919700.0</td>\n",
       "      <td>20775.0</td>\n",
       "      <td>53.0</td>\n",
       "    </tr>\n",
       "    <tr>\n",
       "      <th>3</th>\n",
       "      <td>2014-09-20</td>\n",
       "      <td>394.673004</td>\n",
       "      <td>423.295990</td>\n",
       "      <td>389.882996</td>\n",
       "      <td>408.903992</td>\n",
       "      <td>408.903992</td>\n",
       "      <td>36863600.0</td>\n",
       "      <td>17607.0</td>\n",
       "      <td>46.0</td>\n",
       "    </tr>\n",
       "    <tr>\n",
       "      <th>4</th>\n",
       "      <td>2014-09-21</td>\n",
       "      <td>408.084991</td>\n",
       "      <td>412.425995</td>\n",
       "      <td>393.181000</td>\n",
       "      <td>398.821014</td>\n",
       "      <td>398.821014</td>\n",
       "      <td>26580100.0</td>\n",
       "      <td>17026.0</td>\n",
       "      <td>48.0</td>\n",
       "    </tr>\n",
       "  </tbody>\n",
       "</table>\n",
       "</div>"
      ],
      "text/plain": [
       "        Date        Open        High         Low       Close   Adj Close  \\\n",
       "0 2014-09-17  465.864014  468.174011  452.421997  457.334015  457.334015   \n",
       "1 2014-09-18  456.859985  456.859985  413.104004  424.440002  424.440002   \n",
       "2 2014-09-19  424.102997  427.834991  384.532013  394.795990  394.795990   \n",
       "3 2014-09-20  394.673004  423.295990  389.882996  408.903992  408.903992   \n",
       "4 2014-09-21  408.084991  412.425995  393.181000  398.821014  398.821014   \n",
       "\n",
       "       Volume   Tweets  Google Trends  \n",
       "0  21056800.0  27946.0           47.0  \n",
       "1  34483200.0  21135.0           47.0  \n",
       "2  37919700.0  20775.0           53.0  \n",
       "3  36863600.0  17607.0           46.0  \n",
       "4  26580100.0  17026.0           48.0  "
      ]
     },
     "execution_count": 13,
     "metadata": {},
     "output_type": "execute_result"
    }
   ],
   "source": [
    "BTC_Tweets_Trends_Prices = BTC_Tweets_Prices.merge(Google_Trends, on='Date', how='outer')\n",
    "BTC_Tweets_Trends_Prices.head()"
   ]
  },
  {
   "cell_type": "code",
   "execution_count": null,
   "id": "9845433a",
   "metadata": {},
   "outputs": [],
   "source": []
  },
  {
   "cell_type": "markdown",
   "id": "085e79b2",
   "metadata": {},
   "source": [
    "## Only Retaining Bitcoin Price and Tweets per day Features"
   ]
  },
  {
   "cell_type": "code",
   "execution_count": 14,
   "id": "50149624",
   "metadata": {},
   "outputs": [
    {
     "data": {
      "text/html": [
       "<div>\n",
       "<style scoped>\n",
       "    .dataframe tbody tr th:only-of-type {\n",
       "        vertical-align: middle;\n",
       "    }\n",
       "\n",
       "    .dataframe tbody tr th {\n",
       "        vertical-align: top;\n",
       "    }\n",
       "\n",
       "    .dataframe thead th {\n",
       "        text-align: right;\n",
       "    }\n",
       "</style>\n",
       "<table border=\"1\" class=\"dataframe\">\n",
       "  <thead>\n",
       "    <tr style=\"text-align: right;\">\n",
       "      <th></th>\n",
       "      <th>Date</th>\n",
       "      <th>Open</th>\n",
       "      <th>High</th>\n",
       "      <th>Low</th>\n",
       "      <th>Close</th>\n",
       "      <th>Adj Close</th>\n",
       "      <th>Volume</th>\n",
       "      <th>Tweets</th>\n",
       "      <th>Google Trends</th>\n",
       "    </tr>\n",
       "  </thead>\n",
       "  <tbody>\n",
       "    <tr>\n",
       "      <th>0</th>\n",
       "      <td>2014-09-17</td>\n",
       "      <td>465.864014</td>\n",
       "      <td>468.174011</td>\n",
       "      <td>452.421997</td>\n",
       "      <td>457.334015</td>\n",
       "      <td>457.334015</td>\n",
       "      <td>21056800.0</td>\n",
       "      <td>27946.0</td>\n",
       "      <td>47.0</td>\n",
       "    </tr>\n",
       "    <tr>\n",
       "      <th>1</th>\n",
       "      <td>2014-09-18</td>\n",
       "      <td>456.859985</td>\n",
       "      <td>456.859985</td>\n",
       "      <td>413.104004</td>\n",
       "      <td>424.440002</td>\n",
       "      <td>424.440002</td>\n",
       "      <td>34483200.0</td>\n",
       "      <td>21135.0</td>\n",
       "      <td>47.0</td>\n",
       "    </tr>\n",
       "    <tr>\n",
       "      <th>2</th>\n",
       "      <td>2014-09-19</td>\n",
       "      <td>424.102997</td>\n",
       "      <td>427.834991</td>\n",
       "      <td>384.532013</td>\n",
       "      <td>394.795990</td>\n",
       "      <td>394.795990</td>\n",
       "      <td>37919700.0</td>\n",
       "      <td>20775.0</td>\n",
       "      <td>53.0</td>\n",
       "    </tr>\n",
       "    <tr>\n",
       "      <th>3</th>\n",
       "      <td>2014-09-20</td>\n",
       "      <td>394.673004</td>\n",
       "      <td>423.295990</td>\n",
       "      <td>389.882996</td>\n",
       "      <td>408.903992</td>\n",
       "      <td>408.903992</td>\n",
       "      <td>36863600.0</td>\n",
       "      <td>17607.0</td>\n",
       "      <td>46.0</td>\n",
       "    </tr>\n",
       "    <tr>\n",
       "      <th>4</th>\n",
       "      <td>2014-09-21</td>\n",
       "      <td>408.084991</td>\n",
       "      <td>412.425995</td>\n",
       "      <td>393.181000</td>\n",
       "      <td>398.821014</td>\n",
       "      <td>398.821014</td>\n",
       "      <td>26580100.0</td>\n",
       "      <td>17026.0</td>\n",
       "      <td>48.0</td>\n",
       "    </tr>\n",
       "  </tbody>\n",
       "</table>\n",
       "</div>"
      ],
      "text/plain": [
       "        Date        Open        High         Low       Close   Adj Close  \\\n",
       "0 2014-09-17  465.864014  468.174011  452.421997  457.334015  457.334015   \n",
       "1 2014-09-18  456.859985  456.859985  413.104004  424.440002  424.440002   \n",
       "2 2014-09-19  424.102997  427.834991  384.532013  394.795990  394.795990   \n",
       "3 2014-09-20  394.673004  423.295990  389.882996  408.903992  408.903992   \n",
       "4 2014-09-21  408.084991  412.425995  393.181000  398.821014  398.821014   \n",
       "\n",
       "       Volume   Tweets  Google Trends  \n",
       "0  21056800.0  27946.0           47.0  \n",
       "1  34483200.0  21135.0           47.0  \n",
       "2  37919700.0  20775.0           53.0  \n",
       "3  36863600.0  17607.0           46.0  \n",
       "4  26580100.0  17026.0           48.0  "
      ]
     },
     "execution_count": 14,
     "metadata": {},
     "output_type": "execute_result"
    }
   ],
   "source": [
    "BTC_Tweets_Trends_Prices_with_Dates = BTC_Tweets_Trends_Prices.drop(['Open', 'High', 'Low','Close','Volume'], axis = 1)\n",
    "BTC_Tweets_Trends_Prices_with_Dates = BTC_Tweets_Trends_Prices.dropna(axis = 0)\n",
    "BTC_Tweets_Trends_Prices_with_Dates.head()"
   ]
  },
  {
   "cell_type": "code",
   "execution_count": 15,
   "id": "2d69d8cd",
   "metadata": {},
   "outputs": [],
   "source": [
    "BTC_Tweets_Trends_Prices = BTC_Tweets_Trends_Prices.drop(['Open', 'High', 'Low','Close','Volume','Date'], axis = 1)"
   ]
  },
  {
   "cell_type": "code",
   "execution_count": 16,
   "id": "db9bb6f0",
   "metadata": {},
   "outputs": [],
   "source": [
    "BTC_Tweets_Trends_Prices = BTC_Tweets_Trends_Prices.dropna(axis = 0)"
   ]
  },
  {
   "cell_type": "code",
   "execution_count": 17,
   "id": "22970524",
   "metadata": {},
   "outputs": [
    {
     "data": {
      "text/html": [
       "<div>\n",
       "<style scoped>\n",
       "    .dataframe tbody tr th:only-of-type {\n",
       "        vertical-align: middle;\n",
       "    }\n",
       "\n",
       "    .dataframe tbody tr th {\n",
       "        vertical-align: top;\n",
       "    }\n",
       "\n",
       "    .dataframe thead th {\n",
       "        text-align: right;\n",
       "    }\n",
       "</style>\n",
       "<table border=\"1\" class=\"dataframe\">\n",
       "  <thead>\n",
       "    <tr style=\"text-align: right;\">\n",
       "      <th></th>\n",
       "      <th>Adj Close</th>\n",
       "      <th>Tweets</th>\n",
       "      <th>Google Trends</th>\n",
       "    </tr>\n",
       "  </thead>\n",
       "  <tbody>\n",
       "    <tr>\n",
       "      <th>0</th>\n",
       "      <td>457.334015</td>\n",
       "      <td>27946.0</td>\n",
       "      <td>47.0</td>\n",
       "    </tr>\n",
       "    <tr>\n",
       "      <th>1</th>\n",
       "      <td>424.440002</td>\n",
       "      <td>21135.0</td>\n",
       "      <td>47.0</td>\n",
       "    </tr>\n",
       "    <tr>\n",
       "      <th>2</th>\n",
       "      <td>394.795990</td>\n",
       "      <td>20775.0</td>\n",
       "      <td>53.0</td>\n",
       "    </tr>\n",
       "    <tr>\n",
       "      <th>3</th>\n",
       "      <td>408.903992</td>\n",
       "      <td>17607.0</td>\n",
       "      <td>46.0</td>\n",
       "    </tr>\n",
       "    <tr>\n",
       "      <th>4</th>\n",
       "      <td>398.821014</td>\n",
       "      <td>17026.0</td>\n",
       "      <td>48.0</td>\n",
       "    </tr>\n",
       "    <tr>\n",
       "      <th>...</th>\n",
       "      <td>...</td>\n",
       "      <td>...</td>\n",
       "      <td>...</td>\n",
       "    </tr>\n",
       "    <tr>\n",
       "      <th>2866</th>\n",
       "      <td>22714.978516</td>\n",
       "      <td>129257.0</td>\n",
       "      <td>35.0</td>\n",
       "    </tr>\n",
       "    <tr>\n",
       "      <th>2867</th>\n",
       "      <td>22465.478516</td>\n",
       "      <td>121141.0</td>\n",
       "      <td>30.0</td>\n",
       "    </tr>\n",
       "    <tr>\n",
       "      <th>2868</th>\n",
       "      <td>22609.164062</td>\n",
       "      <td>96410.0</td>\n",
       "      <td>27.0</td>\n",
       "    </tr>\n",
       "    <tr>\n",
       "      <th>2869</th>\n",
       "      <td>21361.701172</td>\n",
       "      <td>111431.0</td>\n",
       "      <td>33.0</td>\n",
       "    </tr>\n",
       "    <tr>\n",
       "      <th>2870</th>\n",
       "      <td>21239.753906</td>\n",
       "      <td>116187.0</td>\n",
       "      <td>34.0</td>\n",
       "    </tr>\n",
       "  </tbody>\n",
       "</table>\n",
       "<p>2767 rows × 3 columns</p>\n",
       "</div>"
      ],
      "text/plain": [
       "         Adj Close    Tweets  Google Trends\n",
       "0       457.334015   27946.0           47.0\n",
       "1       424.440002   21135.0           47.0\n",
       "2       394.795990   20775.0           53.0\n",
       "3       408.903992   17607.0           46.0\n",
       "4       398.821014   17026.0           48.0\n",
       "...            ...       ...            ...\n",
       "2866  22714.978516  129257.0           35.0\n",
       "2867  22465.478516  121141.0           30.0\n",
       "2868  22609.164062   96410.0           27.0\n",
       "2869  21361.701172  111431.0           33.0\n",
       "2870  21239.753906  116187.0           34.0\n",
       "\n",
       "[2767 rows x 3 columns]"
      ]
     },
     "execution_count": 17,
     "metadata": {},
     "output_type": "execute_result"
    }
   ],
   "source": [
    "BTC_Tweets_Trends_Prices"
   ]
  },
  {
   "cell_type": "markdown",
   "id": "5d5fb4c5",
   "metadata": {},
   "source": [
    "### Changing Column Order to bring Target variable to Right position"
   ]
  },
  {
   "cell_type": "code",
   "execution_count": 18,
   "id": "91ecafe0",
   "metadata": {},
   "outputs": [
    {
     "data": {
      "text/plain": [
       "['Adj Close', 'Tweets', 'Google Trends']"
      ]
     },
     "execution_count": 18,
     "metadata": {},
     "output_type": "execute_result"
    }
   ],
   "source": [
    "cols = BTC_Tweets_Trends_Prices.columns.tolist()\n",
    "cols"
   ]
  },
  {
   "cell_type": "code",
   "execution_count": 19,
   "id": "f17e8a1c",
   "metadata": {},
   "outputs": [
    {
     "data": {
      "text/plain": [
       "['Tweets', 'Google Trends', 'Adj Close']"
      ]
     },
     "execution_count": 19,
     "metadata": {},
     "output_type": "execute_result"
    }
   ],
   "source": [
    "cols = ['Tweets', 'Google Trends','Adj Close']\n",
    "cols"
   ]
  },
  {
   "cell_type": "code",
   "execution_count": 20,
   "id": "96bffaca",
   "metadata": {},
   "outputs": [
    {
     "data": {
      "text/html": [
       "<div>\n",
       "<style scoped>\n",
       "    .dataframe tbody tr th:only-of-type {\n",
       "        vertical-align: middle;\n",
       "    }\n",
       "\n",
       "    .dataframe tbody tr th {\n",
       "        vertical-align: top;\n",
       "    }\n",
       "\n",
       "    .dataframe thead th {\n",
       "        text-align: right;\n",
       "    }\n",
       "</style>\n",
       "<table border=\"1\" class=\"dataframe\">\n",
       "  <thead>\n",
       "    <tr style=\"text-align: right;\">\n",
       "      <th></th>\n",
       "      <th>Tweets</th>\n",
       "      <th>Google Trends</th>\n",
       "      <th>Adj Close</th>\n",
       "    </tr>\n",
       "  </thead>\n",
       "  <tbody>\n",
       "    <tr>\n",
       "      <th>0</th>\n",
       "      <td>27946.0</td>\n",
       "      <td>47.0</td>\n",
       "      <td>457.334015</td>\n",
       "    </tr>\n",
       "    <tr>\n",
       "      <th>1</th>\n",
       "      <td>21135.0</td>\n",
       "      <td>47.0</td>\n",
       "      <td>424.440002</td>\n",
       "    </tr>\n",
       "    <tr>\n",
       "      <th>2</th>\n",
       "      <td>20775.0</td>\n",
       "      <td>53.0</td>\n",
       "      <td>394.795990</td>\n",
       "    </tr>\n",
       "    <tr>\n",
       "      <th>3</th>\n",
       "      <td>17607.0</td>\n",
       "      <td>46.0</td>\n",
       "      <td>408.903992</td>\n",
       "    </tr>\n",
       "    <tr>\n",
       "      <th>4</th>\n",
       "      <td>17026.0</td>\n",
       "      <td>48.0</td>\n",
       "      <td>398.821014</td>\n",
       "    </tr>\n",
       "    <tr>\n",
       "      <th>...</th>\n",
       "      <td>...</td>\n",
       "      <td>...</td>\n",
       "      <td>...</td>\n",
       "    </tr>\n",
       "    <tr>\n",
       "      <th>2866</th>\n",
       "      <td>129257.0</td>\n",
       "      <td>35.0</td>\n",
       "      <td>22714.978516</td>\n",
       "    </tr>\n",
       "    <tr>\n",
       "      <th>2867</th>\n",
       "      <td>121141.0</td>\n",
       "      <td>30.0</td>\n",
       "      <td>22465.478516</td>\n",
       "    </tr>\n",
       "    <tr>\n",
       "      <th>2868</th>\n",
       "      <td>96410.0</td>\n",
       "      <td>27.0</td>\n",
       "      <td>22609.164062</td>\n",
       "    </tr>\n",
       "    <tr>\n",
       "      <th>2869</th>\n",
       "      <td>111431.0</td>\n",
       "      <td>33.0</td>\n",
       "      <td>21361.701172</td>\n",
       "    </tr>\n",
       "    <tr>\n",
       "      <th>2870</th>\n",
       "      <td>116187.0</td>\n",
       "      <td>34.0</td>\n",
       "      <td>21239.753906</td>\n",
       "    </tr>\n",
       "  </tbody>\n",
       "</table>\n",
       "<p>2767 rows × 3 columns</p>\n",
       "</div>"
      ],
      "text/plain": [
       "        Tweets  Google Trends     Adj Close\n",
       "0      27946.0           47.0    457.334015\n",
       "1      21135.0           47.0    424.440002\n",
       "2      20775.0           53.0    394.795990\n",
       "3      17607.0           46.0    408.903992\n",
       "4      17026.0           48.0    398.821014\n",
       "...        ...            ...           ...\n",
       "2866  129257.0           35.0  22714.978516\n",
       "2867  121141.0           30.0  22465.478516\n",
       "2868   96410.0           27.0  22609.164062\n",
       "2869  111431.0           33.0  21361.701172\n",
       "2870  116187.0           34.0  21239.753906\n",
       "\n",
       "[2767 rows x 3 columns]"
      ]
     },
     "execution_count": 20,
     "metadata": {},
     "output_type": "execute_result"
    }
   ],
   "source": [
    "BTC_Tweets_Trends_Prices = BTC_Tweets_Trends_Prices[cols]\n",
    "BTC_Tweets_Trends_Prices"
   ]
  },
  {
   "cell_type": "markdown",
   "id": "ad693eae",
   "metadata": {},
   "source": [
    "# Feature Scaling Data."
   ]
  },
  {
   "cell_type": "code",
   "execution_count": 21,
   "id": "79e6594c",
   "metadata": {},
   "outputs": [],
   "source": [
    "from sklearn.preprocessing import MinMaxScaler\n",
    "scaler = MinMaxScaler()"
   ]
  },
  {
   "cell_type": "code",
   "execution_count": 22,
   "id": "4e087aa6",
   "metadata": {},
   "outputs": [],
   "source": [
    "BTC_Tweets_Trends_Prices_1 = scaler.fit_transform(BTC_Tweets_Trends_Prices)"
   ]
  },
  {
   "cell_type": "code",
   "execution_count": 23,
   "id": "c784c304",
   "metadata": {},
   "outputs": [
    {
     "data": {
      "text/plain": [
       "array([[0.05795108, 0.44210526, 0.00414359],\n",
       "       [0.03883334, 0.44210526, 0.00365546],\n",
       "       [0.03782286, 0.50526316, 0.00321557],\n",
       "       ...,\n",
       "       [0.2501221 , 0.23157895, 0.33286074],\n",
       "       [0.29228442, 0.29473684, 0.31434929],\n",
       "       [0.30563399, 0.30526316, 0.31253968]])"
      ]
     },
     "execution_count": 23,
     "metadata": {},
     "output_type": "execute_result"
    }
   ],
   "source": [
    "BTC_Tweets_Trends_Prices_1"
   ]
  },
  {
   "cell_type": "code",
   "execution_count": 24,
   "id": "1be17c91",
   "metadata": {},
   "outputs": [],
   "source": [
    "np.random.seed(0)"
   ]
  },
  {
   "cell_type": "code",
   "execution_count": 25,
   "id": "dd6c51fe",
   "metadata": {},
   "outputs": [],
   "source": [
    "BTC_Tweets_Trends_Prices_1 = pd.DataFrame(BTC_Tweets_Trends_Prices_1)"
   ]
  },
  {
   "cell_type": "code",
   "execution_count": 26,
   "id": "23648508",
   "metadata": {},
   "outputs": [
    {
     "data": {
      "text/html": [
       "<div>\n",
       "<style scoped>\n",
       "    .dataframe tbody tr th:only-of-type {\n",
       "        vertical-align: middle;\n",
       "    }\n",
       "\n",
       "    .dataframe tbody tr th {\n",
       "        vertical-align: top;\n",
       "    }\n",
       "\n",
       "    .dataframe thead th {\n",
       "        text-align: right;\n",
       "    }\n",
       "</style>\n",
       "<table border=\"1\" class=\"dataframe\">\n",
       "  <thead>\n",
       "    <tr style=\"text-align: right;\">\n",
       "      <th></th>\n",
       "      <th>0</th>\n",
       "      <th>1</th>\n",
       "      <th>2</th>\n",
       "    </tr>\n",
       "  </thead>\n",
       "  <tbody>\n",
       "    <tr>\n",
       "      <th>0</th>\n",
       "      <td>0.057951</td>\n",
       "      <td>0.442105</td>\n",
       "      <td>0.004144</td>\n",
       "    </tr>\n",
       "    <tr>\n",
       "      <th>1</th>\n",
       "      <td>0.038833</td>\n",
       "      <td>0.442105</td>\n",
       "      <td>0.003655</td>\n",
       "    </tr>\n",
       "    <tr>\n",
       "      <th>2</th>\n",
       "      <td>0.037823</td>\n",
       "      <td>0.505263</td>\n",
       "      <td>0.003216</td>\n",
       "    </tr>\n",
       "    <tr>\n",
       "      <th>3</th>\n",
       "      <td>0.028931</td>\n",
       "      <td>0.431579</td>\n",
       "      <td>0.003425</td>\n",
       "    </tr>\n",
       "    <tr>\n",
       "      <th>4</th>\n",
       "      <td>0.027300</td>\n",
       "      <td>0.452632</td>\n",
       "      <td>0.003275</td>\n",
       "    </tr>\n",
       "    <tr>\n",
       "      <th>...</th>\n",
       "      <td>...</td>\n",
       "      <td>...</td>\n",
       "      <td>...</td>\n",
       "    </tr>\n",
       "    <tr>\n",
       "      <th>2762</th>\n",
       "      <td>0.342320</td>\n",
       "      <td>0.315789</td>\n",
       "      <td>0.334431</td>\n",
       "    </tr>\n",
       "    <tr>\n",
       "      <th>2763</th>\n",
       "      <td>0.319539</td>\n",
       "      <td>0.263158</td>\n",
       "      <td>0.330729</td>\n",
       "    </tr>\n",
       "    <tr>\n",
       "      <th>2764</th>\n",
       "      <td>0.250122</td>\n",
       "      <td>0.231579</td>\n",
       "      <td>0.332861</td>\n",
       "    </tr>\n",
       "    <tr>\n",
       "      <th>2765</th>\n",
       "      <td>0.292284</td>\n",
       "      <td>0.294737</td>\n",
       "      <td>0.314349</td>\n",
       "    </tr>\n",
       "    <tr>\n",
       "      <th>2766</th>\n",
       "      <td>0.305634</td>\n",
       "      <td>0.305263</td>\n",
       "      <td>0.312540</td>\n",
       "    </tr>\n",
       "  </tbody>\n",
       "</table>\n",
       "<p>2767 rows × 3 columns</p>\n",
       "</div>"
      ],
      "text/plain": [
       "             0         1         2\n",
       "0     0.057951  0.442105  0.004144\n",
       "1     0.038833  0.442105  0.003655\n",
       "2     0.037823  0.505263  0.003216\n",
       "3     0.028931  0.431579  0.003425\n",
       "4     0.027300  0.452632  0.003275\n",
       "...        ...       ...       ...\n",
       "2762  0.342320  0.315789  0.334431\n",
       "2763  0.319539  0.263158  0.330729\n",
       "2764  0.250122  0.231579  0.332861\n",
       "2765  0.292284  0.294737  0.314349\n",
       "2766  0.305634  0.305263  0.312540\n",
       "\n",
       "[2767 rows x 3 columns]"
      ]
     },
     "execution_count": 26,
     "metadata": {},
     "output_type": "execute_result"
    }
   ],
   "source": [
    "BTC_Tweets_Trends_Prices_1"
   ]
  },
  {
   "cell_type": "markdown",
   "id": "142311de",
   "metadata": {},
   "source": [
    "## Train Test Splitting the Data"
   ]
  },
  {
   "cell_type": "code",
   "execution_count": 27,
   "id": "069c67b4",
   "metadata": {},
   "outputs": [],
   "source": [
    "X = BTC_Tweets_Trends_Prices_1.iloc[:,:-1].values \n",
    "Y = BTC_Tweets_Trends_Prices_1.iloc[:,-1].values"
   ]
  },
  {
   "cell_type": "code",
   "execution_count": 28,
   "id": "f1eb6bcf",
   "metadata": {},
   "outputs": [
    {
     "data": {
      "text/plain": [
       "array([[0.05795108, 0.44210526],\n",
       "       [0.03883334, 0.44210526],\n",
       "       [0.03782286, 0.50526316],\n",
       "       ...,\n",
       "       [0.2501221 , 0.23157895],\n",
       "       [0.29228442, 0.29473684],\n",
       "       [0.30563399, 0.30526316]])"
      ]
     },
     "execution_count": 28,
     "metadata": {},
     "output_type": "execute_result"
    }
   ],
   "source": [
    "X"
   ]
  },
  {
   "cell_type": "code",
   "execution_count": 29,
   "id": "bba3269e",
   "metadata": {},
   "outputs": [
    {
     "data": {
      "text/plain": [
       "array([0.00414359, 0.00365546, 0.00321557, ..., 0.33286074, 0.31434929,\n",
       "       0.31253968])"
      ]
     },
     "execution_count": 29,
     "metadata": {},
     "output_type": "execute_result"
    }
   ],
   "source": [
    "Y"
   ]
  },
  {
   "cell_type": "code",
   "execution_count": 30,
   "id": "323671c4",
   "metadata": {},
   "outputs": [],
   "source": [
    "from sklearn.model_selection import train_test_split\n",
    "X_train, X_test, Y_train, Y_test = train_test_split(X,Y,test_size=0.2,random_state=1)"
   ]
  },
  {
   "cell_type": "markdown",
   "id": "e474cef8",
   "metadata": {},
   "source": [
    "# Fitting Basic Linear Regression model."
   ]
  },
  {
   "cell_type": "code",
   "execution_count": 31,
   "id": "d5d6efe1",
   "metadata": {},
   "outputs": [
    {
     "data": {
      "text/plain": [
       "LinearRegression()"
      ]
     },
     "execution_count": 31,
     "metadata": {},
     "output_type": "execute_result"
    }
   ],
   "source": [
    "from sklearn.linear_model import LinearRegression\n",
    "regressor = LinearRegression()\n",
    "regressor.fit(X_train, Y_train)"
   ]
  },
  {
   "cell_type": "markdown",
   "id": "af6c178e",
   "metadata": {},
   "source": [
    "### Prediction on Basic LR Model."
   ]
  },
  {
   "cell_type": "code",
   "execution_count": 32,
   "id": "57bc9214",
   "metadata": {},
   "outputs": [],
   "source": [
    "y_pred = regressor.predict(X_test)\n"
   ]
  },
  {
   "cell_type": "code",
   "execution_count": 33,
   "id": "b8cd5194",
   "metadata": {},
   "outputs": [
    {
     "data": {
      "text/plain": [
       "array([0.43684694, 0.18142174, 0.04036416, 0.44262618, 0.09698705,\n",
       "       0.0670054 , 0.29939951, 0.08438205, 0.05181812, 0.0617106 ,\n",
       "       0.06352586, 0.48558326, 0.04172702, 0.05056356, 0.04290587,\n",
       "       0.06950303, 0.08104068, 0.16635072, 0.30614368, 0.12596448,\n",
       "       0.40980357, 0.07036766, 0.07603055, 0.43319065, 0.05790533,\n",
       "       0.21713673, 0.04181106, 0.04894414, 0.07180204, 0.06999783,\n",
       "       0.32383729, 0.07031625, 0.07247601, 0.05233202, 0.05260215,\n",
       "       0.05079346, 0.30923122, 0.040868  , 0.2254424 , 0.05331745,\n",
       "       0.04016831, 0.35353624, 0.05568587, 0.12530718, 0.10012424,\n",
       "       0.07459653, 0.03445471, 0.06474881, 0.05653588, 0.72430657,\n",
       "       0.55613759, 0.10226732, 0.07304059, 0.14489108, 0.061304  ,\n",
       "       0.08811262, 0.38016607, 0.06666515, 0.0468236 , 0.08505601,\n",
       "       0.05237298, 0.31792784, 0.07630278, 0.27808224, 0.61156811,\n",
       "       0.05211707, 0.04431874, 0.06089948, 0.12224813, 0.04134683,\n",
       "       0.50725369, 0.06291163, 0.11407721, 0.51578086, 0.06591204,\n",
       "       0.04711388, 0.0802938 , 0.07915004, 0.09589503, 0.13229027,\n",
       "       0.5892036 , 0.08258377, 0.08232439, 0.29000878, 0.12021581,\n",
       "       0.0370287 , 0.08934529, 0.74555611, 0.06781832, 0.61873168,\n",
       "       0.11127473, 0.06065051, 0.1050507 , 0.29338487, 0.0646634 ,\n",
       "       0.1603281 , 0.06870131, 0.06127554, 0.37015173, 0.04856459,\n",
       "       0.05523621, 0.03298318, 0.35025079, 0.5270664 , 0.06169011,\n",
       "       0.10566356, 0.11678141, 0.1064705 , 0.41110393, 0.1284371 ,\n",
       "       0.96379516, 0.55822788, 0.10260206, 0.33812531, 0.07352429,\n",
       "       0.07073326, 0.11985329, 0.05845744, 0.04856393, 0.40270904,\n",
       "       0.37135068, 0.03339671, 0.48697115, 0.04433398, 0.03081647,\n",
       "       0.26878111, 0.04376836, 0.09773529, 0.05044689, 0.08383376,\n",
       "       0.08323934, 0.12591274, 0.07118432, 0.05018823, 0.06338494,\n",
       "       0.26182477, 0.54984168, 0.06090016, 0.06463391, 0.49011871,\n",
       "       0.55363999, 0.03265539, 0.14874182, 0.03520995, 0.03069323,\n",
       "       0.05393064, 0.04665486, 0.08840397, 0.06130088, 0.0745434 ,\n",
       "       0.08531643, 0.15436896, 0.05799942, 0.0587307 , 0.07423434,\n",
       "       0.16365383, 0.19689936, 0.27861557, 0.10242981, 0.10478402,\n",
       "       0.04367324, 0.45876108, 0.62107482, 0.02128269, 0.12003491,\n",
       "       0.06393042, 0.27691173, 0.1158043 , 0.32203345, 0.0671565 ,\n",
       "       0.39875135, 0.63781217, 0.2309501 , 0.36595446, 0.11079172,\n",
       "       0.11904774, 0.41904153, 0.13247567, 0.28461564, 0.39545306,\n",
       "       0.05647201, 0.11821434, 0.05982099, 0.39659196, 0.42052801,\n",
       "       0.13009927, 0.06422451, 0.14990638, 0.37759486, 0.08867586,\n",
       "       1.00785121, 0.19280208, 0.09915965, 0.0779674 , 0.07571807,\n",
       "       0.64091602, 0.0735677 , 0.09937631, 0.09335853, 0.15074083,\n",
       "       0.67672581, 0.03608772, 0.11211362, 0.0631856 , 0.48735619,\n",
       "       0.11234869, 0.03671585, 0.11044311, 0.11331572, 0.63707465,\n",
       "       0.09125053, 0.057355  , 0.09960652, 0.05273236, 0.06045223,\n",
       "       0.07875595, 0.09090087, 0.0511886 , 0.81867505, 0.23506333,\n",
       "       0.04501906, 0.04259684, 0.18165126, 0.04775175, 0.05705465,\n",
       "       0.1177387 , 0.05398168, 0.3729653 , 0.11027471, 0.60109471,\n",
       "       0.27781661, 0.0343988 , 0.09386203, 0.45987048, 0.0436944 ,\n",
       "       0.06043523, 0.61846054, 0.32650747, 0.58028578, 0.05973001,\n",
       "       0.02973592, 0.21578947, 0.09658566, 0.03628356, 0.67243753,\n",
       "       0.07111101, 0.10544271, 0.0975072 , 0.10089788, 0.42608953,\n",
       "       0.05345146, 0.06308906, 0.14229799, 0.06361582, 0.08777513,\n",
       "       0.05532963, 0.59106265, 0.08103409, 0.33821593, 0.0275279 ,\n",
       "       0.09093212, 0.14692861, 0.13216695, 0.64638619, 0.59297933,\n",
       "       0.0713739 , 0.05486849, 0.07046801, 0.08402753, 0.06502695,\n",
       "       0.12093524, 0.54969932, 0.02475946, 0.09444223, 0.1555329 ,\n",
       "       0.11867308, 0.0587366 , 0.06746482, 0.07932084, 0.08502407,\n",
       "       0.07413642, 0.37728062, 0.09045227, 0.03607281, 0.04974377,\n",
       "       0.09760754, 0.47186333, 0.0774226 , 0.06914437, 0.12950167,\n",
       "       0.07014472, 0.1136869 , 0.26118064, 0.05599976, 0.41181055,\n",
       "       0.07091001, 0.16960597, 0.18763779, 0.07380623, 0.04882153,\n",
       "       0.09668184, 0.05401259, 0.09247623, 0.61178891, 0.0916658 ,\n",
       "       0.23731685, 0.1243398 , 0.02384487, 0.10444478, 0.05073409,\n",
       "       0.1142942 , 0.4897993 , 0.08636471, 0.03770025, 0.40687577,\n",
       "       0.3573856 , 0.05786541, 0.19938272, 0.31937473, 0.06244254,\n",
       "       0.04994133, 0.03312068, 0.10997674, 0.07630102, 0.13232288,\n",
       "       0.06860857, 0.08157957, 0.38636476, 0.14760815, 0.9845534 ,\n",
       "       0.12202311, 0.08239487, 0.04498367, 0.13418644, 0.0582189 ,\n",
       "       0.0468038 , 0.06009078, 0.07708578, 0.15390856, 0.4654768 ,\n",
       "       0.07772952, 0.07164957, 0.35748212, 0.58244899, 0.03142829,\n",
       "       0.02655358, 0.05817409, 0.06386028, 0.06811312, 0.43133785,\n",
       "       0.03487175, 0.05338584, 0.08354869, 0.12479502, 0.10076556,\n",
       "       0.06763289, 0.66080827, 0.04176767, 0.14902065, 0.13808927,\n",
       "       0.03968568, 0.6843377 , 0.04281765, 0.15913746, 0.13657434,\n",
       "       0.03675265, 0.18218248, 0.06928742, 0.39547113, 0.07510764,\n",
       "       0.05035803, 0.13029888, 0.0810341 , 0.08275669, 0.30964926,\n",
       "       0.46926505, 0.06254151, 0.4856326 , 0.17430463, 0.08815848,\n",
       "       0.12599886, 0.03476793, 0.09371619, 0.16774971, 0.11907448,\n",
       "       0.14104345, 0.04332215, 0.04840001, 0.05105317, 0.12652698,\n",
       "       0.05502059, 0.06698845, 0.21754018, 0.30124432, 0.12169846,\n",
       "       0.06908255, 0.06372382, 0.10736115, 0.50023762, 0.12990238,\n",
       "       0.51799441, 0.03477868, 0.04631214, 0.07084751, 0.08034867,\n",
       "       0.03638461, 0.05081706, 0.08108373, 0.14481504, 0.53969261,\n",
       "       0.43887508, 0.06401617, 0.12316791, 0.48371277, 0.4449953 ,\n",
       "       0.2851594 , 0.03976799, 0.04515172, 0.07946811, 0.06785372,\n",
       "       0.48994583, 0.0203365 , 0.33172279, 0.45061726, 0.07281491,\n",
       "       0.04936322, 0.34524171, 0.03807561, 0.03532139, 0.07270896,\n",
       "       0.43480139, 0.07338226, 0.07912574, 0.05052988, 0.05276291,\n",
       "       0.04391179, 0.1046552 , 0.08084067, 0.46270525, 0.08802341,\n",
       "       0.08921821, 0.11932342, 0.05788382, 0.11044551, 0.07457221,\n",
       "       0.08985502, 0.05852931, 0.09690547, 0.07219682, 0.07414547,\n",
       "       0.04968927, 0.05866021, 0.04575105, 0.4518926 , 0.08582929,\n",
       "       0.07676632, 0.06863462, 0.05895604, 0.18952982, 0.04335066,\n",
       "       0.09311166, 0.06705616, 0.08263584, 0.05688622, 0.29248692,\n",
       "       0.03013628, 0.07269927, 0.20734219, 0.02574213, 0.06442729,\n",
       "       0.02192853, 0.11761125, 0.40032604, 0.21257558, 0.39503152,\n",
       "       0.1862593 , 0.04373401, 0.06577002, 0.21947007, 0.44985369,\n",
       "       0.03619536, 0.06627488, 0.03201755, 0.08098896, 0.3899259 ,\n",
       "       0.23124351, 0.03563426, 0.10996395, 0.07457496, 0.45306901,\n",
       "       0.52533341, 0.05403132, 0.11452405, 0.20980507, 0.06366617,\n",
       "       0.10165343, 0.03999577, 0.05368687, 0.03407833, 0.04958929,\n",
       "       0.15253701, 0.11174868, 0.0409784 , 0.45054121, 0.1441751 ,\n",
       "       0.48324575, 0.11892794, 1.37616842, 0.07733682, 0.1606399 ,\n",
       "       0.04490242, 0.38351786, 0.06199253, 0.50507589, 0.03148385,\n",
       "       0.3181414 , 0.02196152, 0.09659955, 0.61623379, 0.51780553,\n",
       "       0.22424376, 0.10772746, 0.06140155, 0.06918777, 0.06653358,\n",
       "       0.04156488, 0.10022806, 0.05697271, 0.08795464, 0.08633311,\n",
       "       0.04148848, 0.10346177, 0.05385495, 0.08506366, 0.10339234,\n",
       "       0.0818407 , 0.18442802, 0.38447829, 0.06887874, 0.15591551,\n",
       "       0.02655464, 0.1131178 , 0.11483866, 0.03252311, 0.06679224,\n",
       "       0.36327247, 0.05688693, 0.06779713, 0.06672663, 0.38141713,\n",
       "       0.07639204, 0.28551915, 0.0473986 , 0.09161339])"
      ]
     },
     "execution_count": 33,
     "metadata": {},
     "output_type": "execute_result"
    }
   ],
   "source": [
    "y_pred"
   ]
  },
  {
   "cell_type": "code",
   "execution_count": 34,
   "id": "9bacaa2f",
   "metadata": {},
   "outputs": [],
   "source": [
    "#https://medium.com/swlh/baby-steps-towards-data-science-linear-regression-in-python-42498dee565b"
   ]
  },
  {
   "cell_type": "markdown",
   "id": "ddb14e73",
   "metadata": {},
   "source": [
    "# Evaluating The Basic Model."
   ]
  },
  {
   "cell_type": "code",
   "execution_count": null,
   "id": "7500053b",
   "metadata": {},
   "outputs": [],
   "source": []
  },
  {
   "cell_type": "code",
   "execution_count": 39,
   "id": "b29c397d",
   "metadata": {},
   "outputs": [],
   "source": [
    "from sklearn.metrics import mean_absolute_error,r2_score,mean_squared_error\n",
    "def MAPE(y_true, y_pred): \n",
    "    y_true, y_pred = np.array(y_true), np.array(y_pred)\n",
    "    return np.mean(np.abs((y_true - y_pred) / np.maximum(np.ones(len(y_true)), np.abs(y_true))))*100"
   ]
  },
  {
   "cell_type": "code",
   "execution_count": 40,
   "id": "1f5d1c32",
   "metadata": {},
   "outputs": [
    {
     "name": "stdout",
     "output_type": "stream",
     "text": [
      "Accuracy: 61.94%\n"
     ]
    }
   ],
   "source": [
    "result = regressor.score(X_test, Y_test)\n",
    "print(\"Accuracy: %.2f%%\" % (result*100.0))"
   ]
  },
  {
   "cell_type": "code",
   "execution_count": 41,
   "id": "7fd71d30",
   "metadata": {},
   "outputs": [
    {
     "name": "stdout",
     "output_type": "stream",
     "text": [
      "Accuracy: 61.94%\n",
      "R^2 :  0.6194034230800978\n",
      "MAE : 0.1076425459463187\n",
      "MAPE : 10.76425459463187\n",
      "RMSE: 0.1544514432440762\n"
     ]
    }
   ],
   "source": [
    "result = regressor.score(X_test, Y_test)\n",
    "print(\"Accuracy: %.2f%%\" % (result*100.0))\n",
    "print(\"R^2 : \", r2_score(Y_test, y_pred))\n",
    "print(\"MAE :\", mean_absolute_error(Y_test,y_pred))\n",
    "print(\"MAPE :\", MAPE(Y_test,y_pred))\n",
    "print(\"RMSE:\",np.sqrt(mean_squared_error(Y_test, y_pred)))"
   ]
  },
  {
   "cell_type": "code",
   "execution_count": null,
   "id": "1e4d14dd",
   "metadata": {},
   "outputs": [],
   "source": []
  },
  {
   "cell_type": "code",
   "execution_count": null,
   "id": "87c52b20",
   "metadata": {},
   "outputs": [],
   "source": []
  },
  {
   "cell_type": "code",
   "execution_count": 36,
   "id": "0488e346",
   "metadata": {},
   "outputs": [],
   "source": [
    "#https://www.pluralsight.com/guides/validating-machine-learning-models-scikit-learn"
   ]
  },
  {
   "cell_type": "markdown",
   "id": "261d5c4d",
   "metadata": {},
   "source": [
    "# K-fold Cross-Validation"
   ]
  },
  {
   "cell_type": "code",
   "execution_count": null,
   "id": "aa183180",
   "metadata": {},
   "outputs": [],
   "source": []
  },
  {
   "cell_type": "code",
   "execution_count": 42,
   "id": "ca852b4f",
   "metadata": {},
   "outputs": [
    {
     "name": "stdout",
     "output_type": "stream",
     "text": [
      "Accuracy: 59.95%\n"
     ]
    }
   ],
   "source": [
    "kfold = model_selection.KFold(n_splits=10)\n",
    "model_kfold = LinearRegression()\n",
    "results_kfold = model_selection.cross_val_score(model_kfold, X_train,Y_train, cv=kfold)\n",
    "print(\"Accuracy: %.2f%%\" % (results_kfold.mean()*100.0)) "
   ]
  },
  {
   "cell_type": "code",
   "execution_count": null,
   "id": "5f880567",
   "metadata": {},
   "outputs": [],
   "source": []
  },
  {
   "cell_type": "markdown",
   "id": "9f343781",
   "metadata": {},
   "source": [
    "#  Stochastic Gradient Descent\n"
   ]
  },
  {
   "cell_type": "code",
   "execution_count": null,
   "id": "c1240e76",
   "metadata": {},
   "outputs": [],
   "source": []
  },
  {
   "cell_type": "code",
   "execution_count": 43,
   "id": "d115f7cc",
   "metadata": {},
   "outputs": [],
   "source": [
    "def run_experiment(model):\n",
    "    model.fit(X_train, Y_train)\n",
    "    y_pred = model.predict(X_test)\n",
    "    print(\"R^2 : \", r2_score(Y_test, y_pred))\n",
    "    print(\"MAE :\", mean_absolute_error(Y_test,y_pred))\n",
    "    print(\"MAPE :\", MAPE(Y_test,y_pred))\n",
    "    print(\"RMSE:\",np.sqrt(mean_squared_error(Y_test, y_pred)))"
   ]
  },
  {
   "cell_type": "code",
   "execution_count": 44,
   "id": "44755ac7",
   "metadata": {},
   "outputs": [
    {
     "name": "stdout",
     "output_type": "stream",
     "text": [
      "R^2 :  0.3118922061405386\n",
      "MAE : 0.1484499635659413\n",
      "MAPE : 14.84499635659413\n",
      "RMSE: 0.20767669815254805\n",
      "Accuracy: 31.19%\n"
     ]
    }
   ],
   "source": [
    "from sklearn.linear_model import SGDRegressor\n",
    "SGD_model = SGDRegressor()\n",
    "run_experiment(SGD_model)\n",
    "result = SGD_model.score(X_test, Y_test)\n",
    "print(\"Accuracy: %.2f%%\" % (result*100.0))"
   ]
  },
  {
   "cell_type": "code",
   "execution_count": null,
   "id": "3671b2d7",
   "metadata": {},
   "outputs": [],
   "source": []
  },
  {
   "cell_type": "code",
   "execution_count": null,
   "id": "655ff619",
   "metadata": {},
   "outputs": [],
   "source": [
    "\n"
   ]
  },
  {
   "cell_type": "markdown",
   "id": "d8d3bf98",
   "metadata": {},
   "source": [
    "# Random Forest Model."
   ]
  },
  {
   "cell_type": "code",
   "execution_count": 45,
   "id": "6653271f",
   "metadata": {},
   "outputs": [
    {
     "data": {
      "text/plain": [
       "RandomForestRegressor(random_state=42)"
      ]
     },
     "execution_count": 45,
     "metadata": {},
     "output_type": "execute_result"
    }
   ],
   "source": [
    "# Import the model we are using\n",
    "from sklearn.ensemble import RandomForestRegressor\n",
    "# Instantiate model with 1000 decision trees\n",
    "rf = RandomForestRegressor(n_estimators = 100, random_state = 42)\n",
    "# Train the model on training data\n",
    "rf.fit(X_train, Y_train)"
   ]
  },
  {
   "cell_type": "markdown",
   "id": "abdce4f9",
   "metadata": {},
   "source": [
    "## Predicting using Basic RF Model."
   ]
  },
  {
   "cell_type": "code",
   "execution_count": 46,
   "id": "c102d878",
   "metadata": {},
   "outputs": [
    {
     "name": "stdout",
     "output_type": "stream",
     "text": [
      "Mean Absolute Error: 0.08 degrees.\n",
      "MAPE : 8.24803959865505\n"
     ]
    }
   ],
   "source": [
    "# Use the forest's predict method on the test data\n",
    "Basic_RF_Model_predictions = rf.predict(X_test)\n",
    "# Calculate the absolute errors\n",
    "errors = abs(Basic_RF_Model_predictions - Y_test)\n",
    "# Print out the mean absolute error (mae)\n",
    "print('Mean Absolute Error:', round(np.mean(errors), 2), 'degrees.')\n",
    "print(\"MAPE :\", MAPE(Y_test,Basic_RF_Model_predictions))\n"
   ]
  },
  {
   "cell_type": "markdown",
   "id": "7604dd5c",
   "metadata": {},
   "source": [
    "## Accuracy of Basic RF Model."
   ]
  },
  {
   "cell_type": "code",
   "execution_count": 47,
   "id": "1cf4594f",
   "metadata": {},
   "outputs": [
    {
     "name": "stdout",
     "output_type": "stream",
     "text": [
      "Accuracy of Basic Random Forest Model : 73.08%\n"
     ]
    }
   ],
   "source": [
    "result = rf.score(X_test, Y_test)\n",
    "print(\"Accuracy of Basic Random Forest Model : %.2f%%\" % (result*100.0))"
   ]
  },
  {
   "cell_type": "code",
   "execution_count": null,
   "id": "8087781f",
   "metadata": {},
   "outputs": [],
   "source": []
  },
  {
   "cell_type": "markdown",
   "id": "835b6cf2",
   "metadata": {},
   "source": [
    "# Checking Feature Importances"
   ]
  },
  {
   "cell_type": "code",
   "execution_count": 48,
   "id": "3845627b",
   "metadata": {},
   "outputs": [],
   "source": [
    "feature_list = list(BTC_Tweets_Trends_Prices.columns)\n",
    "feature_list =feature_list[:-1]"
   ]
  },
  {
   "cell_type": "code",
   "execution_count": null,
   "id": "9bdcca35",
   "metadata": {},
   "outputs": [],
   "source": []
  },
  {
   "cell_type": "code",
   "execution_count": 49,
   "id": "2fafa08a",
   "metadata": {},
   "outputs": [
    {
     "name": "stdout",
     "output_type": "stream",
     "text": [
      "Variable: Tweets               Importance: 0.86\n",
      "Variable: Google Trends        Importance: 0.14\n"
     ]
    }
   ],
   "source": [
    "# Get numerical feature importances\n",
    "importances = list(rf.feature_importances_)\n",
    "# List of tuples with variable and importance\n",
    "feature_importances = [(feature, round(importance, 2)) for feature, importance in zip(feature_list, importances)]\n",
    "# Sort the feature importances by most important first\n",
    "feature_importances = sorted(feature_importances, key = lambda x: x[1], reverse = True)\n",
    "# Print out the feature and importances \n",
    "[print('Variable: {:20} Importance: {}'.format(*pair)) for pair in feature_importances];"
   ]
  },
  {
   "cell_type": "code",
   "execution_count": 50,
   "id": "7e432958",
   "metadata": {},
   "outputs": [
    {
     "data": {
      "image/png": "[encoded data removed]",
      "text/plain": [
       "<Figure size 432x288 with 1 Axes>"
      ]
     },
     "metadata": {},
     "output_type": "display_data"
    }
   ],
   "source": [
    "# Import matplotlib for plotting and use magic command for Jupyter Notebooks\n",
    "import matplotlib.pyplot as plt\n",
    "%matplotlib inline\n",
    "# Set the style\n",
    "plt.style.use('fivethirtyeight')\n",
    "# list of x locations for plotting\n",
    "x_values = list(range(len(importances)))\n",
    "# Make a bar chart\n",
    "plt.bar(x_values, importances, orientation = 'vertical')\n",
    "# Tick labels for x axis\n",
    "plt.xticks(x_values, feature_list, rotation='vertical')\n",
    "# Axis labels and title\n",
    "plt.ylabel('Importance'); plt.xlabel('Variable'); plt.title('Variable Importances');"
   ]
  },
  {
   "cell_type": "code",
   "execution_count": null,
   "id": "fe57c444",
   "metadata": {},
   "outputs": [],
   "source": []
  },
  {
   "cell_type": "markdown",
   "id": "0be76ec4",
   "metadata": {},
   "source": [
    "# Random Forest with only Tweets (Imp) Variable."
   ]
  },
  {
   "cell_type": "code",
   "execution_count": 53,
   "id": "d86b07d6",
   "metadata": {},
   "outputs": [
    {
     "name": "stdout",
     "output_type": "stream",
     "text": [
      "Mean Absolute Error: 0.1 degrees.\n",
      "MAPE : 9.957211575813014\n"
     ]
    }
   ],
   "source": [
    "# New random forest with only the two most important variables\n",
    "rf_most_important = RandomForestRegressor(n_estimators= 100, random_state=42)\n",
    "# Extract the two most important features\n",
    "important_indices = [feature_list.index('Tweets')]\n",
    "train_important = X_train[:, important_indices]\n",
    "test_important = X_test[:, important_indices]\n",
    "\n",
    "# Train the random forest\n",
    "rf_most_important.fit(train_important, Y_train)\n",
    "# Make predictions and determine the error\n",
    "predictions = rf_most_important.predict(test_important)\n",
    "errors = abs(predictions - Y_test)\n",
    "# Display the performance metrics\n",
    "print('Mean Absolute Error:', round(np.mean(errors), 2), 'degrees.')\n",
    "print(\"MAPE :\", MAPE(Y_test,predictions))\n"
   ]
  },
  {
   "cell_type": "code",
   "execution_count": 54,
   "id": "d42c76c6",
   "metadata": {},
   "outputs": [
    {
     "name": "stdout",
     "output_type": "stream",
     "text": [
      "Accuracy of RF model with only Tweets Variable : 60.76%\n"
     ]
    }
   ],
   "source": [
    "result = rf_most_important.score(test_important, Y_test)\n",
    "print(\"Accuracy of RF model with only Tweets Variable : %.2f%%\" % (result*100.0))"
   ]
  },
  {
   "cell_type": "code",
   "execution_count": null,
   "id": "085ff73f",
   "metadata": {},
   "outputs": [],
   "source": []
  },
  {
   "cell_type": "markdown",
   "id": "e5c34137",
   "metadata": {},
   "source": [
    "# Building  XGBOOST Model."
   ]
  },
  {
   "cell_type": "code",
   "execution_count": 55,
   "id": "7516a81d",
   "metadata": {},
   "outputs": [],
   "source": [
    "def scoring(model,X_test, Y_test):\n",
    "    predictions = model.predict(X_test)\n",
    "    mae = mean_absolute_error(Y_test, predictions)\n",
    "    mse = mean_squared_error(Y_test, predictions)\n",
    "    r2 = r2_score(Y_test, predictions)\n",
    "    errors = abs(predictions - Y_test)\n",
    "    result = model.score(X_test, Y_test)\n",
    "    print('Model Performance')\n",
    "    print('Mean Absolute Error: {:0.4f}.'.format(mae))\n",
    "    print(\"MAPE :\", MAPE(Y_test,predictions))\n",
    "    print('Mean Squared Error: {:0.4f}.'.format(mse))\n",
    "    print('R^2 Score = {:0.4f}.'.format(r2))\n",
    "    print(\"Accuracy of XG-Boost Model: %.2f%%\" % (result*100.0))\n"
   ]
  },
  {
   "cell_type": "code",
   "execution_count": 56,
   "id": "2024badb",
   "metadata": {},
   "outputs": [],
   "source": [
    "from xgboost import XGBRegressor"
   ]
  },
  {
   "cell_type": "code",
   "execution_count": 57,
   "id": "8ccaf24f",
   "metadata": {},
   "outputs": [
    {
     "name": "stdout",
     "output_type": "stream",
     "text": [
      "Model Performance\n",
      "Mean Absolute Error: 0.0843.\n",
      "MAPE : 8.431840054555648\n",
      "Mean Squared Error: 0.0182.\n",
      "R^2 Score = 0.7096.\n",
      "Accuracy of XG-Boost Model: 70.96%\n"
     ]
    }
   ],
   "source": [
    "\n",
    "xgb_regressor = XGBRegressor(random_state=42)\n",
    "xgb = xgb_regressor.fit(X_train, Y_train)\n",
    "\n",
    "scoring(xgb, X_test, Y_test)"
   ]
  },
  {
   "cell_type": "code",
   "execution_count": 51,
   "id": "8b0fc9fd",
   "metadata": {},
   "outputs": [],
   "source": [
    "# pip Install pyforest package to support run Lazy predict."
   ]
  },
  {
   "cell_type": "markdown",
   "id": "e69fbcd6",
   "metadata": {},
   "source": [
    "# Modelling on Data using Various Regression Models using Lazy Predict."
   ]
  },
  {
   "cell_type": "code",
   "execution_count": 52,
   "id": "4badb8fa",
   "metadata": {},
   "outputs": [],
   "source": [
    "#!pip install pyforest"
   ]
  },
  {
   "cell_type": "code",
   "execution_count": 58,
   "id": "286f3fad",
   "metadata": {
    "scrolled": true
   },
   "outputs": [
    {
     "name": "stderr",
     "output_type": "stream",
     "text": [
      "C:\\Users\\523053\\Anaconda3\\lib\\site-packages\\sklearn\\utils\\deprecation.py:143: FutureWarning: The sklearn.utils.testing module is  deprecated in version 0.22 and will be removed in version 0.24. The corresponding classes / functions should instead be imported from sklearn.utils. Anything that cannot be imported from sklearn.utils is now part of the private API.\n",
      "  warnings.warn(message, FutureWarning)\n"
     ]
    }
   ],
   "source": [
    "# Importing important libraries\n",
    "import pyforest\n",
    "from lazypredict.Supervised import LazyRegressor\n",
    "from pandas.plotting import scatter_matrix\n",
    "# Scikit-learn packages\n",
    "from sklearn.linear_model import LinearRegression\n",
    "from sklearn.tree import DecisionTreeRegressor\n",
    "from sklearn.ensemble import ExtraTreesRegressor\n",
    "from sklearn import metrics\n",
    "from sklearn.metrics import mean_squared_error\n",
    "# Hide warnings\n",
    "import warnings\n",
    "warnings.filterwarnings('ignore')\n",
    "# Setting up max columns displayed to 100\n",
    "pd.options.display.max_columns = 100"
   ]
  },
  {
   "cell_type": "code",
   "execution_count": 54,
   "id": "b28b96c7",
   "metadata": {},
   "outputs": [],
   "source": [
    "#R-Squared (R² or the coefficient of determination) is a statistical measure in a regression model that determines the proportion of variance in the dependent variable that can be explained by the independent variable.\n",
    "#In other words, r-squared shows how well the data fit the regression model (the goodness of fit)."
   ]
  },
  {
   "cell_type": "code",
   "execution_count": 55,
   "id": "005e4246",
   "metadata": {},
   "outputs": [
    {
     "name": "stderr",
     "output_type": "stream",
     "text": [
      "100%|██████████████████████████████████████████████████████████████████████████████████| 42/42 [00:03<00:00, 10.72it/s]"
     ]
    },
    {
     "name": "stdout",
     "output_type": "stream",
     "text": [
      "                               Adjusted R-Squared  R-Squared  RMSE  Time Taken\n",
      "Model                                                                         \n",
      "NuSVR                                        0.80       0.80  0.11        0.23\n",
      "SVR                                          0.78       0.78  0.12        0.07\n",
      "GradientBoostingRegressor                    0.77       0.78  0.12        0.14\n",
      "MLPRegressor                                 0.77       0.77  0.12        0.47\n",
      "AdaBoostRegressor                            0.76       0.76  0.12        0.04\n",
      "KNeighborsRegressor                          0.75       0.76  0.12        0.02\n",
      "LGBMRegressor                                0.74       0.75  0.13        0.08\n",
      "HistGradientBoostingRegressor                0.74       0.74  0.13        0.57\n",
      "RandomForestRegressor                        0.73       0.73  0.13        0.50\n",
      "ExtraTreesRegressor                          0.71       0.72  0.13        0.35\n",
      "XGBRegressor                                 0.71       0.71  0.14        0.11\n",
      "BaggingRegressor                             0.70       0.70  0.14        0.05\n",
      "SGDRegressor                                 0.62       0.62  0.15        0.01\n",
      "OrthogonalMatchingPursuitCV                  0.62       0.62  0.15        0.02\n",
      "OrthogonalMatchingPursuit                    0.62       0.62  0.15        0.02\n",
      "LinearRegression                             0.62       0.62  0.15        0.01\n",
      "TransformedTargetRegressor                   0.62       0.62  0.15        0.02\n",
      "Lars                                         0.62       0.62  0.15        0.03\n",
      "Ridge                                        0.62       0.62  0.15        0.02\n",
      "BayesianRidge                                0.62       0.62  0.15        0.01\n",
      "RidgeCV                                      0.62       0.62  0.15        0.01\n",
      "LassoLarsIC                                  0.62       0.62  0.15        0.01\n",
      "ElasticNetCV                                 0.62       0.62  0.15        0.08\n",
      "LassoCV                                      0.62       0.62  0.15        0.06\n",
      "LarsCV                                       0.62       0.62  0.15        0.02\n",
      "LassoLarsCV                                  0.62       0.62  0.15        0.02\n",
      "HuberRegressor                               0.59       0.59  0.16        0.02\n",
      "LinearSVR                                    0.58       0.58  0.16        0.02\n",
      "ExtraTreeRegressor                           0.57       0.57  0.16        0.02\n",
      "DecisionTreeRegressor                        0.50       0.51  0.18        0.03\n",
      "GeneralizedLinearRegressor                   0.44       0.45  0.19        0.02\n",
      "TweedieRegressor                             0.44       0.45  0.19        0.00\n",
      "GammaRegressor                               0.27       0.27  0.21        0.01\n",
      "PoissonRegressor                             0.18       0.18  0.23        0.01\n",
      "KernelRidge                                  0.03       0.03  0.25        0.23\n",
      "DummyRegressor                              -0.00      -0.00  0.25        0.01\n",
      "Lasso                                       -0.00      -0.00  0.25        0.01\n",
      "ElasticNet                                  -0.00      -0.00  0.25        0.01\n",
      "LassoLars                                   -0.00      -0.00  0.25        0.02\n",
      "RANSACRegressor                             -0.29      -0.29  0.28        0.01\n",
      "PassiveAggressiveRegressor                  -0.48      -0.47  0.30        0.01\n",
      "GaussianProcessRegressor                 -5007.52   -4989.41 17.69        0.50\n"
     ]
    },
    {
     "name": "stderr",
     "output_type": "stream",
     "text": [
      "\n"
     ]
    }
   ],
   "source": [
    "reg = LazyRegressor(ignore_warnings=False, custom_metric=None)\n",
    "models, predictions = reg.fit(X_train, X_test, Y_train, Y_test)\n",
    "print(models)"
   ]
  },
  {
   "cell_type": "code",
   "execution_count": 59,
   "id": "0a07a856",
   "metadata": {},
   "outputs": [
    {
     "name": "stderr",
     "output_type": "stream",
     "text": [
      "100%|██████████████████████████████████████████████████████████████████████████████████| 42/42 [00:07<00:00,  5.52it/s]"
     ]
    },
    {
     "name": "stdout",
     "output_type": "stream",
     "text": [
      "                               Adjusted R-Squared  R-Squared  RMSE  \\\n",
      "Model                                                                \n",
      "NuSVR                                        0.80       0.80  0.11   \n",
      "SVR                                          0.78       0.78  0.12   \n",
      "GradientBoostingRegressor                    0.77       0.78  0.12   \n",
      "MLPRegressor                                 0.77       0.77  0.12   \n",
      "AdaBoostRegressor                            0.76       0.76  0.12   \n",
      "KNeighborsRegressor                          0.75       0.76  0.12   \n",
      "LGBMRegressor                                0.74       0.75  0.13   \n",
      "HistGradientBoostingRegressor                0.74       0.74  0.13   \n",
      "RandomForestRegressor                        0.73       0.73  0.13   \n",
      "ExtraTreesRegressor                          0.71       0.72  0.13   \n",
      "XGBRegressor                                 0.71       0.71  0.14   \n",
      "BaggingRegressor                             0.70       0.70  0.14   \n",
      "SGDRegressor                                 0.62       0.62  0.15   \n",
      "OrthogonalMatchingPursuitCV                  0.62       0.62  0.15   \n",
      "OrthogonalMatchingPursuit                    0.62       0.62  0.15   \n",
      "LinearRegression                             0.62       0.62  0.15   \n",
      "TransformedTargetRegressor                   0.62       0.62  0.15   \n",
      "Lars                                         0.62       0.62  0.15   \n",
      "Ridge                                        0.62       0.62  0.15   \n",
      "BayesianRidge                                0.62       0.62  0.15   \n",
      "RidgeCV                                      0.62       0.62  0.15   \n",
      "LassoLarsIC                                  0.62       0.62  0.15   \n",
      "ElasticNetCV                                 0.62       0.62  0.15   \n",
      "LassoCV                                      0.62       0.62  0.15   \n",
      "LarsCV                                       0.62       0.62  0.15   \n",
      "LassoLarsCV                                  0.62       0.62  0.15   \n",
      "HuberRegressor                               0.59       0.59  0.16   \n",
      "LinearSVR                                    0.58       0.58  0.16   \n",
      "ExtraTreeRegressor                           0.57       0.57  0.16   \n",
      "DecisionTreeRegressor                        0.50       0.51  0.18   \n",
      "GeneralizedLinearRegressor                   0.44       0.45  0.19   \n",
      "TweedieRegressor                             0.44       0.45  0.19   \n",
      "GammaRegressor                               0.27       0.27  0.21   \n",
      "PoissonRegressor                             0.18       0.18  0.23   \n",
      "KernelRidge                                  0.03       0.03  0.25   \n",
      "DummyRegressor                              -0.00      -0.00  0.25   \n",
      "Lasso                                       -0.00      -0.00  0.25   \n",
      "ElasticNet                                  -0.00      -0.00  0.25   \n",
      "LassoLars                                   -0.00      -0.00  0.25   \n",
      "RANSACRegressor                             -0.29      -0.29  0.28   \n",
      "PassiveAggressiveRegressor                  -0.48      -0.47  0.30   \n",
      "GaussianProcessRegressor                 -5007.52   -4989.41 17.69   \n",
      "\n",
      "                               Time Taken   MAPE  \n",
      "Model                                             \n",
      "NuSVR                                0.65   7.98  \n",
      "SVR                                  0.15   8.54  \n",
      "GradientBoostingRegressor            0.35   7.82  \n",
      "MLPRegressor                         1.03   8.45  \n",
      "AdaBoostRegressor                    0.10   8.47  \n",
      "KNeighborsRegressor                  0.04   7.90  \n",
      "LGBMRegressor                        0.19   8.08  \n",
      "HistGradientBoostingRegressor        1.14   8.08  \n",
      "RandomForestRegressor                0.88   8.22  \n",
      "ExtraTreesRegressor                  0.59   8.45  \n",
      "XGBRegressor                         0.16   8.44  \n",
      "BaggingRegressor                     0.14   8.61  \n",
      "SGDRegressor                         0.02  10.79  \n",
      "OrthogonalMatchingPursuitCV          0.04  10.75  \n",
      "OrthogonalMatchingPursuit            0.03  10.75  \n",
      "LinearRegression                     0.02  10.76  \n",
      "TransformedTargetRegressor           0.02  10.76  \n",
      "Lars                                 0.02  10.76  \n",
      "Ridge                                0.02  10.77  \n",
      "BayesianRidge                        0.02  10.77  \n",
      "RidgeCV                              0.02  10.77  \n",
      "LassoLarsIC                          0.02  10.76  \n",
      "ElasticNetCV                         0.09  10.77  \n",
      "LassoCV                              0.11  10.77  \n",
      "LarsCV                               0.03  10.78  \n",
      "LassoLarsCV                          0.03  10.78  \n",
      "HuberRegressor                       0.05  10.77  \n",
      "LinearSVR                            0.06  10.73  \n",
      "ExtraTreeRegressor                   0.01   9.76  \n",
      "DecisionTreeRegressor                0.05  10.42  \n",
      "GeneralizedLinearRegressor           0.02  13.16  \n",
      "TweedieRegressor                     0.02  13.16  \n",
      "GammaRegressor                       0.04  13.23  \n",
      "PoissonRegressor                     0.02  16.48  \n",
      "KernelRidge                          0.40  20.39  \n",
      "DummyRegressor                       0.03  18.62  \n",
      "Lasso                                0.03  18.62  \n",
      "ElasticNet                           0.02  18.62  \n",
      "LassoLars                            0.02  18.62  \n",
      "RANSACRegressor                      0.04  16.47  \n",
      "PassiveAggressiveRegressor           0.02  21.73  \n",
      "GaussianProcessRegressor             0.80 169.31  \n"
     ]
    },
    {
     "name": "stderr",
     "output_type": "stream",
     "text": [
      "\n"
     ]
    }
   ],
   "source": [
    "reg = LazyRegressor(ignore_warnings=False, custom_metric=MAPE)\n",
    "models, predictions = reg.fit(X_train, X_test, Y_train, Y_test)\n",
    "print(models)"
   ]
  },
  {
   "cell_type": "code",
   "execution_count": null,
   "id": "3dc1e9e1",
   "metadata": {},
   "outputs": [],
   "source": []
  }
 ],
 "metadata": {
  "kernelspec": {
   "display_name": "Python 3",
   "language": "python",
   "name": "python3"
  },
  "language_info": {
   "codemirror_mode": {
    "name": "ipython",
    "version": 3
   },
   "file_extension": ".py",
   "mimetype": "text/x-python",
   "name": "python",
   "nbconvert_exporter": "python",
   "pygments_lexer": "ipython3",
   "version": "3.8.8"
  }
 },
 "nbformat": 4,
 "nbformat_minor": 5
}
